{
 "cells": [
  {
   "cell_type": "code",
   "execution_count": 1,
   "metadata": {},
   "outputs": [],
   "source": [
    "import pandas as pd\n",
    "import numpy as np\n",
    "import os\n",
    "import sqlalchemy\n",
    "from sqlalchemy import create_engine, MetaData\n",
    "from sqlalchemy.ext.declarative import declarative_base\n",
    "from sqlalchemy import Column, Integer, Float, String, Numeric, Text\n",
    "import requests\n",
    "import time\n",
    "import urllib\n",
    "from pprint import pprint\n",
    "import json"
   ]
  },
  {
   "cell_type": "code",
   "execution_count": 2,
   "metadata": {},
   "outputs": [],
   "source": [
    "url = \"https://rest.coinapi.io/v1/ohlcv/BITSTAMP_SPOT_BTC_USD/history?period_id=1DAY&apikey=4A40F826-79B9-4535-9C80-8294B50FE4B4&time_start=2016-06-01T00:00:00.0000000Z&time_end=2018-06-02T00:00:00.0000000Z\""
   ]
  },
  {
   "cell_type": "code",
   "execution_count": 3,
   "metadata": {},
   "outputs": [
    {
     "name": "stdout",
     "output_type": "stream",
     "text": [
      "<Response [200]>\n"
     ]
    }
   ],
   "source": [
    "response = requests.get(url)\n",
    "print(response)"
   ]
  },
  {
   "cell_type": "code",
   "execution_count": 4,
   "metadata": {},
   "outputs": [],
   "source": [
    "data = response.json()"
   ]
  },
  {
   "cell_type": "code",
   "execution_count": 5,
   "metadata": {},
   "outputs": [],
   "source": [
    "engine = create_engine(\"sqlite:///cryptocurrency.sqlite\")\n",
    "conn = engine.connect()"
   ]
  },
  {
   "cell_type": "code",
   "execution_count": 248,
   "metadata": {},
   "outputs": [],
   "source": [
    "Base = declarative_base()\n",
    "\n",
    "class BTC(Base):\n",
    "    __tablename__ = \"btc\"\n",
    "    \n",
    "    CC_ID = Column(Integer, primary_key = True)    \n",
    "    price_close = Column(Float)\n",
    "    price_high = Column(Float)\n",
    "    price_low = Column(Float)\n",
    "    price_open = Column(Float)\n",
    "    time_period_end = Column(String)\n",
    "    time_period_start = Column(String)\n",
    "    trades_count = Column(Integer)\n",
    "    volume_traded = Column(Float)\n",
    "    \n",
    "    def __repr__(self):\n",
    "        return f\"CC_ID = {self.CC_ID}, price_close= {self.price_close}, price_high = {self.price_high}, price_low = {self.price_low}, price_open = {self.price_open},time_period_end = {self.time_period_end},time_period_start = {self.time_period_start},trades_count = {self.trades_count},volume_traded= {self.volume_traded}\"   \n"
   ]
  },
  {
   "cell_type": "code",
   "execution_count": 249,
   "metadata": {},
   "outputs": [],
   "source": [
    "Base.metadata.create_all(engine)"
   ]
  },
  {
   "cell_type": "code",
   "execution_count": 250,
   "metadata": {},
   "outputs": [],
   "source": [
    "metadata = MetaData(bind = engine)\n",
    "metadata.reflect()"
   ]
  },
  {
   "cell_type": "code",
   "execution_count": 251,
   "metadata": {},
   "outputs": [],
   "source": [
    "table = sqlalchemy.Table('btc', metadata, autoload=True)"
   ]
  },
  {
   "cell_type": "code",
   "execution_count": 252,
   "metadata": {},
   "outputs": [
    {
     "data": {
      "text/plain": [
       "<sqlalchemy.engine.result.ResultProxy at 0x1da6405a0f0>"
      ]
     },
     "execution_count": 252,
     "metadata": {},
     "output_type": "execute_result"
    }
   ],
   "source": [
    "conn.execute(table.delete())"
   ]
  },
  {
   "cell_type": "code",
   "execution_count": 253,
   "metadata": {},
   "outputs": [
    {
     "data": {
      "text/plain": [
       "<sqlalchemy.engine.result.ResultProxy at 0x1da63fd2f98>"
      ]
     },
     "execution_count": 253,
     "metadata": {},
     "output_type": "execute_result"
    }
   ],
   "source": [
    "conn.execute(table.insert(), data)"
   ]
  },
  {
   "cell_type": "code",
   "execution_count": 254,
   "metadata": {},
   "outputs": [
    {
     "data": {
      "text/plain": [
       "[(1, 536.95, 542.87, 525.49, 532.37, '2016-06-02T00:00:00.0000000Z', '2016-06-01T00:00:00.0000000Z', 4433, 5456.942657),\n",
       " (2, 538.0, 540.0, 529.13, 536.95, '2016-06-03T00:00:00.0000000Z', '2016-06-02T00:00:00.0000000Z', 3533, 3939.35132757),\n",
       " (3, 569.94, 578.37, 535.74, 538.0, '2016-06-04T00:00:00.0000000Z', '2016-06-03T00:00:00.0000000Z', 6192, 8801.7746347),\n",
       " (4, 573.8, 588.71, 558.54, 569.93, '2016-06-05T00:00:00.0000000Z', '2016-06-04T00:00:00.0000000Z', 4131, 6216.6271931),\n",
       " (5, 573.91, 582.0, 566.0, 573.5, '2016-06-06T00:00:00.0000000Z', '2016-06-05T00:00:00.0000000Z', 3347, 5415.93469447)]"
      ]
     },
     "execution_count": 254,
     "metadata": {},
     "output_type": "execute_result"
    }
   ],
   "source": [
    "conn.execute(\"select * from btc limit 5\").fetchall()"
   ]
  },
  {
   "cell_type": "code",
   "execution_count": 255,
   "metadata": {},
   "outputs": [],
   "source": [
    "url1 = \"https://rest.coinapi.io/v1/ohlcv/BITSTAMP_SPOT_BCH_USD/history?period_id=1DAY&apikey=4A40F826-79B9-4535-9C80-8294B50FE4B4&time_start=2016-06-01T00:00:00.0000000Z&time_end=2018-06-02T00:00:00.0000000Z\""
   ]
  },
  {
   "cell_type": "code",
   "execution_count": 256,
   "metadata": {},
   "outputs": [
    {
     "name": "stdout",
     "output_type": "stream",
     "text": [
      "<Response [200]>\n"
     ]
    }
   ],
   "source": [
    "response = requests.get(url1)\n",
    "print(response)"
   ]
  },
  {
   "cell_type": "code",
   "execution_count": 257,
   "metadata": {},
   "outputs": [],
   "source": [
    "data1 = response.json()"
   ]
  },
  {
   "cell_type": "code",
   "execution_count": 258,
   "metadata": {},
   "outputs": [],
   "source": [
    "engine = create_engine(\"sqlite:///cryptocurrency.sqlite\")\n",
    "conn = engine.connect()"
   ]
  },
  {
   "cell_type": "code",
   "execution_count": 259,
   "metadata": {},
   "outputs": [],
   "source": [
    "Base = declarative_base()\n",
    "\n",
    "class BCH(Base):\n",
    "    __tablename__ = \"bch\"\n",
    "    \n",
    "    cc_ID = Column(Integer, primary_key = True)\n",
    "    price_close = Column(Float)\n",
    "    price_high = Column(Float)\n",
    "    price_low = Column(Float)\n",
    "    price_open = Column(Float)\n",
    "    time_period_end = Column(String)\n",
    "    time_period_start = Column(String)\n",
    "    trades_count = Column(Integer)\n",
    "    volume_traded = Column(Float)\n",
    "    \n",
    "    def __repr__(self):\n",
    "        return f\"cc_ID = {self.cc_ID}, price_close= {self.price_close}, price_high = {self.price_high}, price_low = {self.price_low}, price_open = {self.price_open},time_period_end = {self.time_period_end},time_period_start = {self.time_period_start},trades_count = {self.trades_count},volume_traded= {self.volume_traded}\"   \n"
   ]
  },
  {
   "cell_type": "code",
   "execution_count": 260,
   "metadata": {},
   "outputs": [],
   "source": [
    "Base.metadata.create_all(engine)"
   ]
  },
  {
   "cell_type": "code",
   "execution_count": 261,
   "metadata": {},
   "outputs": [],
   "source": [
    "metadata = MetaData(bind = engine)\n",
    "metadata.reflect()"
   ]
  },
  {
   "cell_type": "code",
   "execution_count": 262,
   "metadata": {},
   "outputs": [],
   "source": [
    "table = sqlalchemy.Table('bch', metadata, autoload=True)"
   ]
  },
  {
   "cell_type": "code",
   "execution_count": 263,
   "metadata": {},
   "outputs": [
    {
     "data": {
      "text/plain": [
       "<sqlalchemy.engine.result.ResultProxy at 0x1da640906d8>"
      ]
     },
     "execution_count": 263,
     "metadata": {},
     "output_type": "execute_result"
    }
   ],
   "source": [
    "conn.execute(table.delete())"
   ]
  },
  {
   "cell_type": "code",
   "execution_count": 264,
   "metadata": {},
   "outputs": [
    {
     "data": {
      "text/plain": [
       "<sqlalchemy.engine.result.ResultProxy at 0x1da63ff6048>"
      ]
     },
     "execution_count": 264,
     "metadata": {},
     "output_type": "execute_result"
    }
   ],
   "source": [
    "conn.execute(table.insert(), data1)"
   ]
  },
  {
   "cell_type": "code",
   "execution_count": 265,
   "metadata": {},
   "outputs": [
    {
     "data": {
      "text/plain": [
       "[(1, 2498.0, 2500.0, 2432.0, 2436.01, '2017-12-29T00:00:00.0000000Z', '2017-12-28T00:00:00.0000000Z', 689, 413.643122369),\n",
       " (2, 2600.0, 2895.0, 2298.57, 2490.63, '2017-12-30T00:00:00.0000000Z', '2017-12-29T00:00:00.0000000Z', 15691, 11900.499230763),\n",
       " (3, 2240.42, 2628.91, 2120.0, 2600.0, '2017-12-31T00:00:00.0000000Z', '2017-12-30T00:00:00.0000000Z', 11876, 9515.133242034),\n",
       " (4, 2377.0, 2504.0, 2189.0, 2232.58, '2018-01-01T00:00:00.0000000Z', '2017-12-31T00:00:00.0000000Z', 5188, 3199.328528593),\n",
       " (5, 2310.0, 2410.0, 2250.0, 2377.0, '2018-01-02T00:00:00.0000000Z', '2018-01-01T00:00:00.0000000Z', 2629, 2772.40178606)]"
      ]
     },
     "execution_count": 265,
     "metadata": {},
     "output_type": "execute_result"
    }
   ],
   "source": [
    "conn.execute(\"select * from bch limit 5\").fetchall()"
   ]
  },
  {
   "cell_type": "code",
   "execution_count": 266,
   "metadata": {},
   "outputs": [],
   "source": [
    "url2 = \"https://rest.coinapi.io/v1/ohlcv/BITSTAMP_SPOT_ETH_USD/history?period_id=1DAY&apikey=4A40F826-79B9-4535-9C80-8294B50FE4B4&time_start=2016-06-01T00:00:00.0000000Z&time_end=2018-06-02T00:00:00.0000000Z\""
   ]
  },
  {
   "cell_type": "code",
   "execution_count": 267,
   "metadata": {},
   "outputs": [],
   "source": [
    "response = requests.get(url2)\n",
    "data2 = response.json()"
   ]
  },
  {
   "cell_type": "code",
   "execution_count": 268,
   "metadata": {},
   "outputs": [],
   "source": [
    "engine = create_engine(\"sqlite:///cryptocurrency.sqlite\")\n",
    "conn = engine.connect()"
   ]
  },
  {
   "cell_type": "code",
   "execution_count": 269,
   "metadata": {},
   "outputs": [],
   "source": [
    "Base = declarative_base()\n",
    "\n",
    "class ETH(Base):\n",
    "    __tablename__ = \"eth\"\n",
    "    \n",
    "    cc_ID = Column(Integer, primary_key = True)\n",
    "    price_close = Column(Float)\n",
    "    price_high = Column(Float)\n",
    "    price_low = Column(Float)\n",
    "    price_open = Column(Float)\n",
    "    time_period_end = Column(String)\n",
    "    time_period_start = Column(String)\n",
    "    trades_count = Column(Integer)\n",
    "    volume_traded = Column(Float)\n",
    "    \n",
    "    def __repr__(self):\n",
    "        return f\"cc_ID = {self.cc_ID}, price_close= {self.price_close}, price_high = {self.price_high}, price_low = {self.price_low}, price_open = {self.price_open},time_period_end = {self.time_period_end},time_period_start = {self.time_period_start},trades_count = {self.trades_count},volume_traded= {self.volume_traded}\"   \n"
   ]
  },
  {
   "cell_type": "code",
   "execution_count": 270,
   "metadata": {},
   "outputs": [],
   "source": [
    "Base.metadata.create_all(engine)"
   ]
  },
  {
   "cell_type": "code",
   "execution_count": 271,
   "metadata": {},
   "outputs": [],
   "source": [
    "metadata = MetaData(bind = engine)\n",
    "metadata.reflect()"
   ]
  },
  {
   "cell_type": "code",
   "execution_count": 272,
   "metadata": {},
   "outputs": [],
   "source": [
    "table = sqlalchemy.Table('eth', metadata, autoload=True)"
   ]
  },
  {
   "cell_type": "code",
   "execution_count": 273,
   "metadata": {},
   "outputs": [
    {
     "data": {
      "text/plain": [
       "<sqlalchemy.engine.result.ResultProxy at 0x1da640dc0b8>"
      ]
     },
     "execution_count": 273,
     "metadata": {},
     "output_type": "execute_result"
    }
   ],
   "source": [
    "conn.execute(table.delete())"
   ]
  },
  {
   "cell_type": "code",
   "execution_count": 274,
   "metadata": {},
   "outputs": [
    {
     "data": {
      "text/plain": [
       "<sqlalchemy.engine.result.ResultProxy at 0x1da64070208>"
      ]
     },
     "execution_count": 274,
     "metadata": {},
     "output_type": "execute_result"
    }
   ],
   "source": [
    "conn.execute(table.insert(), data2)"
   ]
  },
  {
   "cell_type": "code",
   "execution_count": 275,
   "metadata": {},
   "outputs": [
    {
     "data": {
      "text/plain": [
       "[(1, 298.4, 298.6, 292.3, 293.13, '2017-08-21T00:00:00.0000000Z', '2017-08-20T00:00:00.0000000Z', 202, 289.70277589),\n",
       " (2, 319.31, 353.0, 292.71, 297.26, '2017-08-22T00:00:00.0000000Z', '2017-08-21T00:00:00.0000000Z', 9772, 24750.689250275),\n",
       " (3, 312.22, 328.8, 291.86, 319.37, '2017-08-23T00:00:00.0000000Z', '2017-08-22T00:00:00.0000000Z', 8495, 17151.965292235),\n",
       " (4, 315.61, 324.68, 311.34, 313.43, '2017-08-24T00:00:00.0000000Z', '2017-08-23T00:00:00.0000000Z', 6718, 11550.126566454),\n",
       " (5, 323.84, 327.49, 312.4, 315.61, '2017-08-25T00:00:00.0000000Z', '2017-08-24T00:00:00.0000000Z', 6403, 8279.527551403)]"
      ]
     },
     "execution_count": 275,
     "metadata": {},
     "output_type": "execute_result"
    }
   ],
   "source": [
    "conn.execute(\"select * from eth limit 5\").fetchall()"
   ]
  },
  {
   "cell_type": "code",
   "execution_count": 276,
   "metadata": {},
   "outputs": [],
   "source": [
    "url3 = \"https://rest.coinapi.io/v1/ohlcv/BITSTAMP_SPOT_LTC_USD/history?period_id=1DAY&apikey=4A40F826-79B9-4535-9C80-8294B50FE4B4&time_start=2016-06-01T00:00:00.0000000Z&time_end=2018-06-02T00:00:00.0000000Z\""
   ]
  },
  {
   "cell_type": "code",
   "execution_count": 277,
   "metadata": {},
   "outputs": [],
   "source": [
    "response = requests.get(url3)\n",
    "data3 = response.json()"
   ]
  },
  {
   "cell_type": "code",
   "execution_count": 278,
   "metadata": {},
   "outputs": [],
   "source": [
    "engine = create_engine(\"sqlite:///cryptocurrency.sqlite\")\n",
    "conn = engine.connect()"
   ]
  },
  {
   "cell_type": "code",
   "execution_count": 279,
   "metadata": {},
   "outputs": [],
   "source": [
    "Base = declarative_base()\n",
    "\n",
    "class LTC(Base):\n",
    "    __tablename__ = \"ltc\"\n",
    "    \n",
    "    cc_ID = Column(Integer, primary_key = True)\n",
    "    price_close = Column(Float)\n",
    "    price_high = Column(Float)\n",
    "    price_low = Column(Float)\n",
    "    price_open = Column(Float)\n",
    "    time_period_end = Column(String)\n",
    "    time_period_start = Column(String)\n",
    "    trades_count = Column(Integer)\n",
    "    volume_traded = Column(Float)\n",
    "    \n",
    "    def __repr__(self):\n",
    "        return f\"cc_ID = {self.cc_ID}, price_close= {self.price_close}, price_high = {self.price_high}, price_low = {self.price_low}, price_open = {self.price_open},time_period_end = {self.time_period_end},time_period_start = {self.time_period_start},trades_count = {self.trades_count},volume_traded= {self.volume_traded}\"   \n"
   ]
  },
  {
   "cell_type": "code",
   "execution_count": 280,
   "metadata": {},
   "outputs": [],
   "source": [
    "Base.metadata.create_all(engine)"
   ]
  },
  {
   "cell_type": "code",
   "execution_count": 281,
   "metadata": {},
   "outputs": [],
   "source": [
    "metadata = MetaData(bind = engine)\n",
    "metadata.reflect()"
   ]
  },
  {
   "cell_type": "code",
   "execution_count": 282,
   "metadata": {},
   "outputs": [],
   "source": [
    "table = sqlalchemy.Table('ltc', metadata, autoload=True)"
   ]
  },
  {
   "cell_type": "code",
   "execution_count": 283,
   "metadata": {},
   "outputs": [
    {
     "data": {
      "text/plain": [
       "<sqlalchemy.engine.result.ResultProxy at 0x1da63d275c0>"
      ]
     },
     "execution_count": 283,
     "metadata": {},
     "output_type": "execute_result"
    }
   ],
   "source": [
    "conn.execute(table.delete())"
   ]
  },
  {
   "cell_type": "code",
   "execution_count": 284,
   "metadata": {},
   "outputs": [
    {
     "data": {
      "text/plain": [
       "<sqlalchemy.engine.result.ResultProxy at 0x1da64122b38>"
      ]
     },
     "execution_count": 284,
     "metadata": {},
     "output_type": "execute_result"
    }
   ],
   "source": [
    "conn.execute(table.insert(), data3)"
   ]
  },
  {
   "cell_type": "code",
   "execution_count": 285,
   "metadata": {},
   "outputs": [
    {
     "data": {
      "text/plain": [
       "[(1, 42.04, 42.99, 40.55, 41.7, '2017-06-29T00:00:00.0000000Z', '2017-06-28T00:00:00.0000000Z', 811, 18559.116545219),\n",
       " (2, 40.5, 41.97, 39.64, 41.8, '2017-06-30T00:00:00.0000000Z', '2017-06-29T00:00:00.0000000Z', 672, 14557.53122183),\n",
       " (3, 39.88, 41.31, 39.3, 40.78, '2017-07-01T00:00:00.0000000Z', '2017-06-30T00:00:00.0000000Z', 975, 20103.19012263),\n",
       " (4, 38.1, 40.0, 37.18, 39.73, '2017-07-02T00:00:00.0000000Z', '2017-07-01T00:00:00.0000000Z', 1321, 24759.0614277),\n",
       " (5, 41.42, 41.89, 37.06, 37.6, '2017-07-03T00:00:00.0000000Z', '2017-07-02T00:00:00.0000000Z', 651, 11329.2972857)]"
      ]
     },
     "execution_count": 285,
     "metadata": {},
     "output_type": "execute_result"
    }
   ],
   "source": [
    "conn.execute(\"select * from ltc limit 5\").fetchall()"
   ]
  },
  {
   "cell_type": "code",
   "execution_count": 286,
   "metadata": {},
   "outputs": [],
   "source": [
    "url4 = \"https://rest.coinapi.io/v1/ohlcv/BITSTAMP_SPOT_XRP_USD/history?period_id=1DAY&apikey=4A40F826-79B9-4535-9C80-8294B50FE4B4&time_start=2016-06-01T00:00:00.0000000Z&time_end=2018-06-02T00:00:00.0000000Z\""
   ]
  },
  {
   "cell_type": "code",
   "execution_count": 287,
   "metadata": {},
   "outputs": [],
   "source": [
    "response = requests.get(url4)\n",
    "data4 = response.json()"
   ]
  },
  {
   "cell_type": "code",
   "execution_count": 288,
   "metadata": {},
   "outputs": [],
   "source": [
    "engine = create_engine(\"sqlite:///cryptocurrency.sqlite\")\n",
    "conn = engine.connect()"
   ]
  },
  {
   "cell_type": "code",
   "execution_count": 289,
   "metadata": {},
   "outputs": [],
   "source": [
    "Base = declarative_base()\n",
    "\n",
    "class XRP(Base):\n",
    "    __tablename__ = \"xrp\"\n",
    "    \n",
    "    cc_ID = Column(Integer, primary_key = True)\n",
    "    price_close = Column(Float)\n",
    "    price_high = Column(Float)\n",
    "    price_low = Column(Float)\n",
    "    price_open = Column(Float)\n",
    "    time_period_end = Column(String)\n",
    "    time_period_start = Column(String)\n",
    "    trades_count = Column(Integer)\n",
    "    volume_traded = Column(Float)\n",
    "    \n",
    "    def __repr__(self):\n",
    "        return f\"cc_ID = {self.cc_ID}, price_close= {self.price_close}, price_high = {self.price_high}, price_low = {self.price_low}, price_open = {self.price_open},time_period_end = {self.time_period_end},time_period_start = {self.time_period_start},trades_count = {self.trades_count},volume_traded= {self.volume_traded}\"   \n"
   ]
  },
  {
   "cell_type": "code",
   "execution_count": 290,
   "metadata": {},
   "outputs": [],
   "source": [
    "Base.metadata.create_all(engine)"
   ]
  },
  {
   "cell_type": "code",
   "execution_count": 291,
   "metadata": {},
   "outputs": [],
   "source": [
    "metadata = MetaData(bind = engine)\n",
    "metadata.reflect()"
   ]
  },
  {
   "cell_type": "code",
   "execution_count": 292,
   "metadata": {},
   "outputs": [],
   "source": [
    "table = sqlalchemy.Table('xrp', metadata, autoload=True)"
   ]
  },
  {
   "cell_type": "code",
   "execution_count": 293,
   "metadata": {},
   "outputs": [
    {
     "data": {
      "text/plain": [
       "<sqlalchemy.engine.result.ResultProxy at 0x1da64167320>"
      ]
     },
     "execution_count": 293,
     "metadata": {},
     "output_type": "execute_result"
    }
   ],
   "source": [
    "conn.execute(table.delete())"
   ]
  },
  {
   "cell_type": "code",
   "execution_count": 294,
   "metadata": {},
   "outputs": [
    {
     "data": {
      "text/plain": [
       "<sqlalchemy.engine.result.ResultProxy at 0x1da6414b438>"
      ]
     },
     "execution_count": 294,
     "metadata": {},
     "output_type": "execute_result"
    }
   ],
   "source": [
    "conn.execute(table.insert(), data4)"
   ]
  },
  {
   "cell_type": "code",
   "execution_count": 295,
   "metadata": {},
   "outputs": [
    {
     "data": {
      "text/plain": [
       "[(1, 0.00649, 0.0065, 0.00645, 0.00645, '2017-01-26T00:00:00.0000000Z', '2017-01-25T00:00:00.0000000Z', 52, 535232.11676851),\n",
       " (2, 0.00638, 0.0065, 0.00638, 0.0065, '2017-01-27T00:00:00.0000000Z', '2017-01-26T00:00:00.0000000Z', 30, 366651.31917298),\n",
       " (3, 0.00642, 0.00642, 0.00642, 0.00642, '2017-02-02T00:00:00.0000000Z', '2017-02-01T00:00:00.0000000Z', 3, 12834.83629132),\n",
       " (4, 0.00641, 0.00643, 0.00626, 0.00643, '2017-02-08T00:00:00.0000000Z', '2017-02-07T00:00:00.0000000Z', 59, 375493.55722066),\n",
       " (5, 0.00635, 0.00648, 0.00608, 0.00635, '2017-02-09T00:00:00.0000000Z', '2017-02-08T00:00:00.0000000Z', 210, 3180307.94070845)]"
      ]
     },
     "execution_count": 295,
     "metadata": {},
     "output_type": "execute_result"
    }
   ],
   "source": [
    "conn.execute(\"select * from xrp limit 5\").fetchall()"
   ]
  },
  {
   "cell_type": "code",
   "execution_count": 296,
   "metadata": {},
   "outputs": [],
   "source": [
    "url5 = \"https://rest.coinapi.io/v1/ohlcv/BITFINEX_SPOT_ETC_USD/history?period_id=1DAY&apikey=4A40F826-79B9-4535-9C80-8294B50FE4B4&time_start=2016-06-01T00:00:00.0000000Z&time_end=2018-06-02T00:00:00.0000000Z\""
   ]
  },
  {
   "cell_type": "code",
   "execution_count": 297,
   "metadata": {},
   "outputs": [],
   "source": [
    "response = requests.get(url5)\n",
    "data5 = response.json()"
   ]
  },
  {
   "cell_type": "code",
   "execution_count": 298,
   "metadata": {},
   "outputs": [],
   "source": [
    "engine = create_engine(\"sqlite:///cryptocurrency.sqlite\")\n",
    "conn = engine.connect()"
   ]
  },
  {
   "cell_type": "code",
   "execution_count": 299,
   "metadata": {},
   "outputs": [],
   "source": [
    "Base = declarative_base()\n",
    "\n",
    "class ETC(Base):\n",
    "    __tablename__ = \"etc\"\n",
    "    \n",
    "    cc_ID = Column(Integer, primary_key = True)\n",
    "    price_close = Column(Float)\n",
    "    price_high = Column(Float)\n",
    "    price_low = Column(Float)\n",
    "    price_open = Column(Float)\n",
    "    time_period_end = Column(String)\n",
    "    time_period_start = Column(String)\n",
    "    trades_count = Column(Integer)\n",
    "    volume_traded = Column(Float)\n",
    "    \n",
    "    def __repr__(self):\n",
    "        return f\"cc_ID = {self.cc_ID}, price_close= {self.price_close}, price_high = {self.price_high}, price_low = {self.price_low}, price_open = {self.price_open},time_period_end = {self.time_period_end},time_period_start = {self.time_period_start},trades_count = {self.trades_count},volume_traded= {self.volume_traded}\"   \n"
   ]
  },
  {
   "cell_type": "code",
   "execution_count": 300,
   "metadata": {},
   "outputs": [],
   "source": [
    "Base.metadata.create_all(engine)"
   ]
  },
  {
   "cell_type": "code",
   "execution_count": 301,
   "metadata": {},
   "outputs": [],
   "source": [
    "metadata = MetaData(bind = engine)\n",
    "metadata.reflect()"
   ]
  },
  {
   "cell_type": "code",
   "execution_count": 302,
   "metadata": {},
   "outputs": [],
   "source": [
    "table = sqlalchemy.Table('etc', metadata, autoload=True)"
   ]
  },
  {
   "cell_type": "code",
   "execution_count": 303,
   "metadata": {},
   "outputs": [
    {
     "data": {
      "text/plain": [
       "<sqlalchemy.engine.result.ResultProxy at 0x1da641b4470>"
      ]
     },
     "execution_count": 303,
     "metadata": {},
     "output_type": "execute_result"
    }
   ],
   "source": [
    "conn.execute(table.delete())"
   ]
  },
  {
   "cell_type": "code",
   "execution_count": 304,
   "metadata": {},
   "outputs": [
    {
     "data": {
      "text/plain": [
       "<sqlalchemy.engine.result.ResultProxy at 0x1da6414b208>"
      ]
     },
     "execution_count": 304,
     "metadata": {},
     "output_type": "execute_result"
    }
   ],
   "source": [
    "conn.execute(table.insert(), data5)"
   ]
  },
  {
   "cell_type": "code",
   "execution_count": 305,
   "metadata": {},
   "outputs": [
    {
     "data": {
      "text/plain": [
       "[(1, 0.00649, 0.0065, 0.00645, 0.00645, '2017-01-26T00:00:00.0000000Z', '2017-01-25T00:00:00.0000000Z', 52, 535232.11676851),\n",
       " (2, 0.00638, 0.0065, 0.00638, 0.0065, '2017-01-27T00:00:00.0000000Z', '2017-01-26T00:00:00.0000000Z', 30, 366651.31917298),\n",
       " (3, 0.00642, 0.00642, 0.00642, 0.00642, '2017-02-02T00:00:00.0000000Z', '2017-02-01T00:00:00.0000000Z', 3, 12834.83629132),\n",
       " (4, 0.00641, 0.00643, 0.00626, 0.00643, '2017-02-08T00:00:00.0000000Z', '2017-02-07T00:00:00.0000000Z', 59, 375493.55722066),\n",
       " (5, 0.00635, 0.00648, 0.00608, 0.00635, '2017-02-09T00:00:00.0000000Z', '2017-02-08T00:00:00.0000000Z', 210, 3180307.94070845)]"
      ]
     },
     "execution_count": 305,
     "metadata": {},
     "output_type": "execute_result"
    }
   ],
   "source": [
    "conn.execute(\"select * from xrp limit 5\").fetchall()"
   ]
  },
  {
   "cell_type": "code",
   "execution_count": 306,
   "metadata": {},
   "outputs": [],
   "source": [
    "url6 = \"https://rest.coinapi.io/v1/ohlcv/BITFINEX_SPOT_NEO_USD/history?period_id=1DAY&apikey=4A40F826-79B9-4535-9C80-8294B50FE4B4&time_start=2016-06-01T00:00:00.0000000Z&time_end=2018-06-02T00:00:00.0000000Z\""
   ]
  },
  {
   "cell_type": "code",
   "execution_count": 307,
   "metadata": {},
   "outputs": [],
   "source": [
    "response = requests.get(url6)\n",
    "data6 = response.json()"
   ]
  },
  {
   "cell_type": "code",
   "execution_count": 308,
   "metadata": {},
   "outputs": [],
   "source": [
    "engine = create_engine(\"sqlite:///cryptocurrency.sqlite\")\n",
    "conn = engine.connect()"
   ]
  },
  {
   "cell_type": "code",
   "execution_count": 309,
   "metadata": {},
   "outputs": [],
   "source": [
    "Base = declarative_base()\n",
    "\n",
    "class NEO(Base):\n",
    "    __tablename__ = \"neo\"\n",
    "    \n",
    "    cc_ID = Column(Integer, primary_key = True)\n",
    "    price_close = Column(Float)\n",
    "    price_high = Column(Float)\n",
    "    price_low = Column(Float)\n",
    "    price_open = Column(Float)\n",
    "    time_period_end = Column(String)\n",
    "    time_period_start = Column(String)\n",
    "    trades_count = Column(Integer)\n",
    "    volume_traded = Column(Float)\n",
    "    \n",
    "    def __repr__(self):\n",
    "        return f\"cc_ID = {self.cc_ID}, price_close= {self.price_close}, price_high = {self.price_high}, price_low = {self.price_low}, price_open = {self.price_open},time_period_end = {self.time_period_end},time_period_start = {self.time_period_start},trades_count = {self.trades_count},volume_traded= {self.volume_traded}\"   \n"
   ]
  },
  {
   "cell_type": "code",
   "execution_count": 310,
   "metadata": {},
   "outputs": [],
   "source": [
    "Base.metadata.create_all(engine)"
   ]
  },
  {
   "cell_type": "code",
   "execution_count": 311,
   "metadata": {},
   "outputs": [],
   "source": [
    "metadata = MetaData(bind = engine)\n",
    "metadata.reflect()"
   ]
  },
  {
   "cell_type": "code",
   "execution_count": 312,
   "metadata": {},
   "outputs": [],
   "source": [
    "table = sqlalchemy.Table('neo', metadata, autoload=True)"
   ]
  },
  {
   "cell_type": "code",
   "execution_count": 313,
   "metadata": {},
   "outputs": [
    {
     "data": {
      "text/plain": [
       "<sqlalchemy.engine.result.ResultProxy at 0x1da64208518>"
      ]
     },
     "execution_count": 313,
     "metadata": {},
     "output_type": "execute_result"
    }
   ],
   "source": [
    "conn.execute(table.delete())"
   ]
  },
  {
   "cell_type": "code",
   "execution_count": 314,
   "metadata": {},
   "outputs": [
    {
     "data": {
      "text/plain": [
       "<sqlalchemy.engine.result.ResultProxy at 0x1da641f98d0>"
      ]
     },
     "execution_count": 314,
     "metadata": {},
     "output_type": "execute_result"
    }
   ],
   "source": [
    "conn.execute(table.insert(), data6)"
   ]
  },
  {
   "cell_type": "code",
   "execution_count": 315,
   "metadata": {},
   "outputs": [
    {
     "data": {
      "text/plain": [
       "[(1, 31.15, 39.8, 28.144, 34.95, '2017-09-08T00:00:00.0000000Z', '2017-09-07T00:00:00.0000000Z', 10299, 195531.52362663),\n",
       " (2, 25.89, 31.39, 22.32, 31.003, '2017-09-09T00:00:00.0000000Z', '2017-09-08T00:00:00.0000000Z', 9631, 296027.1755769),\n",
       " (3, 22.6, 25.924, 22.18, 25.89, '2017-09-10T00:00:00.0000000Z', '2017-09-09T00:00:00.0000000Z', 5378, 133128.76437294),\n",
       " (4, 23.805, 25.4, 19.529, 22.59, '2017-09-11T00:00:00.0000000Z', '2017-09-10T00:00:00.0000000Z', 5913, 172473.13192489),\n",
       " (5, 22.048, 24.5, 21.509, 23.773, '2017-09-12T00:00:00.0000000Z', '2017-09-11T00:00:00.0000000Z', 3137, 79796.22787584)]"
      ]
     },
     "execution_count": 315,
     "metadata": {},
     "output_type": "execute_result"
    }
   ],
   "source": [
    "conn.execute(\"select * from neo limit 5\").fetchall()"
   ]
  },
  {
   "cell_type": "code",
   "execution_count": 316,
   "metadata": {},
   "outputs": [],
   "source": [
    "url7 = \"https://rest.coinapi.io/v1/ohlcv/BITFINEX_SPOT_XMR_USD/history?period_id=1DAY&apikey=4A40F826-79B9-4535-9C80-8294B50FE4B4&time_start=2016-06-01T00:00:00.0000000Z&time_end=2018-06-02T00:00:00.0000000Z\""
   ]
  },
  {
   "cell_type": "code",
   "execution_count": 317,
   "metadata": {},
   "outputs": [],
   "source": [
    "response = requests.get(url7)\n",
    "data7 = response.json()"
   ]
  },
  {
   "cell_type": "code",
   "execution_count": 318,
   "metadata": {},
   "outputs": [],
   "source": [
    "engine = create_engine(\"sqlite:///cryptocurrency.sqlite\")\n",
    "conn = engine.connect()"
   ]
  },
  {
   "cell_type": "code",
   "execution_count": 319,
   "metadata": {},
   "outputs": [],
   "source": [
    "Base = declarative_base()\n",
    "\n",
    "class XMR(Base):\n",
    "    __tablename__ = \"xmr\"\n",
    "    \n",
    "    cc_ID = Column(Integer, primary_key = True)\n",
    "    price_close = Column(Float)\n",
    "    price_high = Column(Float)\n",
    "    price_low = Column(Float)\n",
    "    price_open = Column(Float)\n",
    "    time_period_end = Column(String)\n",
    "    time_period_start = Column(String)\n",
    "    trades_count = Column(Integer)\n",
    "    volume_traded = Column(Float)\n",
    "    \n",
    "    def __repr__(self):\n",
    "        return f\"cc_ID = {self.cc_ID}, price_close= {self.price_close}, price_high = {self.price_high}, price_low = {self.price_low}, price_open = {self.price_open},time_period_end = {self.time_period_end},time_period_start = {self.time_period_start},trades_count = {self.trades_count},volume_traded= {self.volume_traded}\"   \n"
   ]
  },
  {
   "cell_type": "code",
   "execution_count": 320,
   "metadata": {},
   "outputs": [],
   "source": [
    "Base.metadata.create_all(engine)"
   ]
  },
  {
   "cell_type": "code",
   "execution_count": 321,
   "metadata": {},
   "outputs": [],
   "source": [
    "metadata = MetaData(bind = engine)\n",
    "metadata.reflect()"
   ]
  },
  {
   "cell_type": "code",
   "execution_count": 322,
   "metadata": {},
   "outputs": [],
   "source": [
    "table = sqlalchemy.Table('xmr', metadata, autoload=True)"
   ]
  },
  {
   "cell_type": "code",
   "execution_count": 323,
   "metadata": {},
   "outputs": [
    {
     "data": {
      "text/plain": [
       "<sqlalchemy.engine.result.ResultProxy at 0x1da64242128>"
      ]
     },
     "execution_count": 323,
     "metadata": {},
     "output_type": "execute_result"
    }
   ],
   "source": [
    "conn.execute(table.delete())"
   ]
  },
  {
   "cell_type": "code",
   "execution_count": 324,
   "metadata": {},
   "outputs": [
    {
     "data": {
      "text/plain": [
       "<sqlalchemy.engine.result.ResultProxy at 0x1da6424c940>"
      ]
     },
     "execution_count": 324,
     "metadata": {},
     "output_type": "execute_result"
    }
   ],
   "source": [
    "conn.execute(table.insert(), data7)"
   ]
  },
  {
   "cell_type": "code",
   "execution_count": 325,
   "metadata": {},
   "outputs": [
    {
     "data": {
      "text/plain": [
       "[(1, 13.694, 13.695, 12.718, 13.403, '2017-01-10T00:00:00.0000000Z', '2017-01-09T00:00:00.0000000Z', 321, 4429.70155117),\n",
       " (2, 13.339, 13.965, 13.339, 13.533, '2017-01-11T00:00:00.0000000Z', '2017-01-10T00:00:00.0000000Z', 83, 1247.08803079),\n",
       " (3, 11.686, 13.6, 11.061, 13.315, '2017-01-12T00:00:00.0000000Z', '2017-01-11T00:00:00.0000000Z', 624, 6521.67213896),\n",
       " (4, 11.843, 12.249, 11.25, 11.378, '2017-01-13T00:00:00.0000000Z', '2017-01-12T00:00:00.0000000Z', 462, 5781.68856438),\n",
       " (5, 11.289, 12.0, 10.932, 11.867, '2017-01-14T00:00:00.0000000Z', '2017-01-13T00:00:00.0000000Z', 287, 4553.54082904)]"
      ]
     },
     "execution_count": 325,
     "metadata": {},
     "output_type": "execute_result"
    }
   ],
   "source": [
    "conn.execute(\"select * from xmr limit 5\").fetchall()"
   ]
  },
  {
   "cell_type": "code",
   "execution_count": 326,
   "metadata": {},
   "outputs": [],
   "source": [
    "url8 = \"https://rest.coinapi.io/v1/ohlcv/KRAKEN_SPOT_USDT_USD/history?period_id=1DAY&apikey=4A40F826-79B9-4535-9C80-8294B50FE4B4&time_start=2016-06-01T00:00:00.0000000Z&time_end=2018-06-02T00:00:00.0000000Z\""
   ]
  },
  {
   "cell_type": "code",
   "execution_count": 327,
   "metadata": {},
   "outputs": [],
   "source": [
    "response = requests.get(url8)\n",
    "data8 = response.json()"
   ]
  },
  {
   "cell_type": "code",
   "execution_count": 328,
   "metadata": {},
   "outputs": [],
   "source": [
    "engine = create_engine(\"sqlite:///cryptocurrency.sqlite\")\n",
    "conn = engine.connect()"
   ]
  },
  {
   "cell_type": "code",
   "execution_count": 329,
   "metadata": {},
   "outputs": [],
   "source": [
    "Base = declarative_base()\n",
    "\n",
    "class USDT(Base):\n",
    "    __tablename__ = \"usdt\"\n",
    "    \n",
    "    cc_ID = Column(Integer, primary_key = True)\n",
    "    price_close = Column(Float)\n",
    "    price_high = Column(Float)\n",
    "    price_low = Column(Float)\n",
    "    price_open = Column(Float)\n",
    "    time_period_end = Column(String)\n",
    "    time_period_start = Column(String)\n",
    "    trades_count = Column(Integer)\n",
    "    volume_traded = Column(Float)\n",
    "    \n",
    "    def __repr__(self):\n",
    "        return f\"cc_ID = {self.cc_ID}, price_close= {self.price_close}, price_high = {self.price_high}, price_low = {self.price_low}, price_open = {self.price_open},time_period_end = {self.time_period_end},time_period_start = {self.time_period_start},trades_count = {self.trades_count},volume_traded= {self.volume_traded}\"   \n"
   ]
  },
  {
   "cell_type": "code",
   "execution_count": 330,
   "metadata": {},
   "outputs": [],
   "source": [
    "Base.metadata.create_all(engine)"
   ]
  },
  {
   "cell_type": "code",
   "execution_count": 331,
   "metadata": {},
   "outputs": [],
   "source": [
    "metadata = MetaData(bind = engine)\n",
    "metadata.reflect()"
   ]
  },
  {
   "cell_type": "code",
   "execution_count": 332,
   "metadata": {},
   "outputs": [],
   "source": [
    "table = sqlalchemy.Table('usdt', metadata, autoload=True)"
   ]
  },
  {
   "cell_type": "code",
   "execution_count": 333,
   "metadata": {},
   "outputs": [
    {
     "data": {
      "text/plain": [
       "<sqlalchemy.engine.result.ResultProxy at 0x1da64291390>"
      ]
     },
     "execution_count": 333,
     "metadata": {},
     "output_type": "execute_result"
    }
   ],
   "source": [
    "conn.execute(table.delete())"
   ]
  },
  {
   "cell_type": "code",
   "execution_count": 334,
   "metadata": {},
   "outputs": [
    {
     "data": {
      "text/plain": [
       "<sqlalchemy.engine.result.ResultProxy at 0x1da63fe3048>"
      ]
     },
     "execution_count": 334,
     "metadata": {},
     "output_type": "execute_result"
    }
   ],
   "source": [
    "conn.execute(table.insert(), data8)"
   ]
  },
  {
   "cell_type": "code",
   "execution_count": 335,
   "metadata": {},
   "outputs": [
    {
     "data": {
      "text/plain": [
       "[(1, 0.9983, 1.001, 0.9901, 1.0009, '2017-04-02T00:00:00.0000000Z', '2017-04-01T00:00:00.0000000Z', 2775, 568085.46248944),\n",
       " (2, 1.0008, 1.001, 0.9946, 0.9983, '2017-04-03T00:00:00.0000000Z', '2017-04-02T00:00:00.0000000Z', 12844, 881231.83230676),\n",
       " (3, 0.9991, 1.0, 0.9906, 0.9906, '2017-04-04T00:00:00.0000000Z', '2017-04-03T00:00:00.0000000Z', 185, 216775.8783859),\n",
       " (4, 1.0, 1.001, 0.999, 1.0, '2017-04-05T00:00:00.0000000Z', '2017-04-04T00:00:00.0000000Z', 283, 321826.1020891),\n",
       " (5, 1.0014, 1.0014, 0.9995, 1.0008, '2017-04-06T00:00:00.0000000Z', '2017-04-05T00:00:00.0000000Z', 258, 301618.27966025)]"
      ]
     },
     "execution_count": 335,
     "metadata": {},
     "output_type": "execute_result"
    }
   ],
   "source": [
    "conn.execute(\"select * from usdt limit 5\").fetchall()"
   ]
  },
  {
   "cell_type": "code",
   "execution_count": null,
   "metadata": {},
   "outputs": [],
   "source": []
  }
 ],
 "metadata": {
  "kernelspec": {
   "display_name": "Python 3",
   "language": "python",
   "name": "python3"
  },
  "language_info": {
   "codemirror_mode": {
    "name": "ipython",
    "version": 3
   },
   "file_extension": ".py",
   "mimetype": "text/x-python",
   "name": "python",
   "nbconvert_exporter": "python",
   "pygments_lexer": "ipython3",
   "version": "3.6.5"
  }
 },
 "nbformat": 4,
 "nbformat_minor": 2
}
